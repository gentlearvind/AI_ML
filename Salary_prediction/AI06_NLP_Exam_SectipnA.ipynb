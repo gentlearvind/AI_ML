{
 "cells": [
  {
   "cell_type": "markdown",
   "id": "94bda824",
   "metadata": {},
   "source": [
    "1.Loading the Dataset:"
   ]
  },
  {
   "cell_type": "code",
   "execution_count": 32,
   "id": "ceb45fe4",
   "metadata": {},
   "outputs": [],
   "source": [
    "import pandas as pd\n",
    "\n",
    "path = r'C:\\Users\\arvind_kumar21\\Documents\\Arvind_Backup\\AI_ML_RACE\\AI06_TRIM02_Module05_NLP\\Final Exam\\data_set.csv'\n",
    "df = pd.read_csv(path)\n"
   ]
  },
  {
   "cell_type": "markdown",
   "id": "2113751e",
   "metadata": {},
   "source": [
    "2. Text Preprocessing:\n",
    "\n",
    "Using nltk and spaCy, we can tokenize, remove stopwords, and lemmatize the data."
   ]
  },
  {
   "cell_type": "code",
   "execution_count": 13,
   "id": "672aeb20",
   "metadata": {},
   "outputs": [],
   "source": [
    "import nltk\n",
    "nltk.set_proxy('http://your_proxy:your_port')\n"
   ]
  },
  {
   "cell_type": "code",
   "execution_count": 53,
   "id": "f1fb570c",
   "metadata": {},
   "outputs": [
    {
     "data": {
      "text/html": [
       "<div>\n",
       "<style scoped>\n",
       "    .dataframe tbody tr th:only-of-type {\n",
       "        vertical-align: middle;\n",
       "    }\n",
       "\n",
       "    .dataframe tbody tr th {\n",
       "        vertical-align: top;\n",
       "    }\n",
       "\n",
       "    .dataframe thead th {\n",
       "        text-align: right;\n",
       "    }\n",
       "</style>\n",
       "<table border=\"1\" class=\"dataframe\">\n",
       "  <thead>\n",
       "    <tr style=\"text-align: right;\">\n",
       "      <th></th>\n",
       "      <th>experience</th>\n",
       "      <th>job_description</th>\n",
       "      <th>job_desig</th>\n",
       "      <th>job_type</th>\n",
       "      <th>key_skills</th>\n",
       "      <th>location</th>\n",
       "      <th>salary</th>\n",
       "      <th>company_name_encoded</th>\n",
       "      <th>Salary_Percentile</th>\n",
       "      <th>salary1</th>\n",
       "    </tr>\n",
       "  </thead>\n",
       "  <tbody>\n",
       "    <tr>\n",
       "      <th>2</th>\n",
       "      <td>5-9 yrs</td>\n",
       "      <td>Must be an effective communicator (written &amp; s...</td>\n",
       "      <td>Deputy Manager - Talent Management &amp; Leadershi...</td>\n",
       "      <td>Analytics</td>\n",
       "      <td>HR Analytics, Employee Engagement, Training, S...</td>\n",
       "      <td>Delhi NCR</td>\n",
       "      <td>15to25</td>\n",
       "      <td>4195</td>\n",
       "      <td>0.495304</td>\n",
       "      <td>low</td>\n",
       "    </tr>\n",
       "    <tr>\n",
       "      <th>3</th>\n",
       "      <td>7-10 yrs</td>\n",
       "      <td>7  -  10 years of overall experience in data e...</td>\n",
       "      <td>Associate Manager Data Engineering</td>\n",
       "      <td>Analytics</td>\n",
       "      <td>SQL, Javascript, Automation, Python, Ruby, Ana...</td>\n",
       "      <td>Bengaluru</td>\n",
       "      <td>10to15</td>\n",
       "      <td>313</td>\n",
       "      <td>0.277522</td>\n",
       "      <td>low</td>\n",
       "    </tr>\n",
       "    <tr>\n",
       "      <th>6</th>\n",
       "      <td>13-15 yrs</td>\n",
       "      <td>- Experience in managing fraud analytics with ...</td>\n",
       "      <td>Associate Vice President - Fraud Analytics - S...</td>\n",
       "      <td>Analytics</td>\n",
       "      <td>Fraud Analytics, People Management Skills, Tea...</td>\n",
       "      <td>Delhi NCR</td>\n",
       "      <td>25to50</td>\n",
       "      <td>1988</td>\n",
       "      <td>0.639228</td>\n",
       "      <td>low</td>\n",
       "    </tr>\n",
       "    <tr>\n",
       "      <th>11</th>\n",
       "      <td>10-12 yrs</td>\n",
       "      <td>- Experience in Credit card/ banking domain wi...</td>\n",
       "      <td>Senior AVP - Model Development - Bank - IIM/ M...</td>\n",
       "      <td>Analytics</td>\n",
       "      <td>Banking, Model Development, Analytics, People ...</td>\n",
       "      <td>Delhi NCR, Gurgaon</td>\n",
       "      <td>10to15</td>\n",
       "      <td>1969</td>\n",
       "      <td>0.277522</td>\n",
       "      <td>low</td>\n",
       "    </tr>\n",
       "    <tr>\n",
       "      <th>12</th>\n",
       "      <td>2-6 yrs</td>\n",
       "      <td>3+ years of software development experience;Le...</td>\n",
       "      <td>Sales and Marketing Data Analyst - Data Analytics</td>\n",
       "      <td>Analytics</td>\n",
       "      <td>Marketing Automation, Sales, Salesforce, Eloqu...</td>\n",
       "      <td>Pune(Kharadi)</td>\n",
       "      <td>10to15</td>\n",
       "      <td>3692</td>\n",
       "      <td>0.277522</td>\n",
       "      <td>low</td>\n",
       "    </tr>\n",
       "  </tbody>\n",
       "</table>\n",
       "</div>"
      ],
      "text/plain": [
       "   experience                                    job_description  \\\n",
       "2     5-9 yrs  Must be an effective communicator (written & s...   \n",
       "3    7-10 yrs  7  -  10 years of overall experience in data e...   \n",
       "6   13-15 yrs  - Experience in managing fraud analytics with ...   \n",
       "11  10-12 yrs  - Experience in Credit card/ banking domain wi...   \n",
       "12    2-6 yrs  3+ years of software development experience;Le...   \n",
       "\n",
       "                                            job_desig   job_type  \\\n",
       "2   Deputy Manager - Talent Management & Leadershi...  Analytics   \n",
       "3                  Associate Manager Data Engineering  Analytics   \n",
       "6   Associate Vice President - Fraud Analytics - S...  Analytics   \n",
       "11  Senior AVP - Model Development - Bank - IIM/ M...  Analytics   \n",
       "12  Sales and Marketing Data Analyst - Data Analytics  Analytics   \n",
       "\n",
       "                                           key_skills            location  \\\n",
       "2   HR Analytics, Employee Engagement, Training, S...           Delhi NCR   \n",
       "3   SQL, Javascript, Automation, Python, Ruby, Ana...           Bengaluru   \n",
       "6   Fraud Analytics, People Management Skills, Tea...           Delhi NCR   \n",
       "11  Banking, Model Development, Analytics, People ...  Delhi NCR, Gurgaon   \n",
       "12  Marketing Automation, Sales, Salesforce, Eloqu...       Pune(Kharadi)   \n",
       "\n",
       "    salary  company_name_encoded  Salary_Percentile salary1  \n",
       "2   15to25                  4195           0.495304     low  \n",
       "3   10to15                   313           0.277522     low  \n",
       "6   25to50                  1988           0.639228     low  \n",
       "11  10to15                  1969           0.277522     low  \n",
       "12  10to15                  3692           0.277522     low  "
      ]
     },
     "execution_count": 53,
     "metadata": {},
     "output_type": "execute_result"
    }
   ],
   "source": [
    "df=df.dropna()\n",
    "df.head(5)"
   ]
  },
  {
   "cell_type": "code",
   "execution_count": 107,
   "id": "22169010",
   "metadata": {},
   "outputs": [],
   "source": [
    "def extract_experience(exp_str):\n",
    "    # Split by '-'\n",
    "    parts = exp_str.split('-')\n",
    "    \n",
    "    if len(parts) == 1:  # Single year format\n",
    "        return int(parts[0].strip().split()[0])\n",
    "    else:  # Range format\n",
    "        lower = int(parts[0].strip())\n",
    "        upper = int(parts[1].strip().split()[0])\n",
    "        \n",
    "        # Return average of range\n",
    "        return (lower + upper) // 2\n",
    "\n",
    "df['experience'] = df['experience'].apply(extract_experience)\n"
   ]
  },
  {
   "cell_type": "code",
   "execution_count": 108,
   "id": "304d3fed",
   "metadata": {},
   "outputs": [
    {
     "data": {
      "text/html": [
       "<div>\n",
       "<style scoped>\n",
       "    .dataframe tbody tr th:only-of-type {\n",
       "        vertical-align: middle;\n",
       "    }\n",
       "\n",
       "    .dataframe tbody tr th {\n",
       "        vertical-align: top;\n",
       "    }\n",
       "\n",
       "    .dataframe thead th {\n",
       "        text-align: right;\n",
       "    }\n",
       "</style>\n",
       "<table border=\"1\" class=\"dataframe\">\n",
       "  <thead>\n",
       "    <tr style=\"text-align: right;\">\n",
       "      <th></th>\n",
       "      <th>experience</th>\n",
       "      <th>job_description</th>\n",
       "      <th>job_desig</th>\n",
       "      <th>job_type</th>\n",
       "      <th>key_skills</th>\n",
       "      <th>location</th>\n",
       "      <th>salary</th>\n",
       "      <th>company_name_encoded</th>\n",
       "      <th>Salary_Percentile</th>\n",
       "      <th>salary1</th>\n",
       "      <th>combined_text</th>\n",
       "    </tr>\n",
       "  </thead>\n",
       "  <tbody>\n",
       "    <tr>\n",
       "      <th>2</th>\n",
       "      <td>7</td>\n",
       "      <td>must effective communicator ( write &amp; speak ) ...</td>\n",
       "      <td>Deputy Manager - Talent Management &amp; Leadershi...</td>\n",
       "      <td>Analytics</td>\n",
       "      <td>HR Analytics , Employee Engagement , training ...</td>\n",
       "      <td>Delhi NCR</td>\n",
       "      <td>15to25</td>\n",
       "      <td>4195</td>\n",
       "      <td>0.373022</td>\n",
       "      <td>low</td>\n",
       "      <td>must effective communicator ( write &amp; speak ) ...</td>\n",
       "    </tr>\n",
       "    <tr>\n",
       "      <th>3</th>\n",
       "      <td>8</td>\n",
       "      <td>7 - 10 year overall experience datum engineer ...</td>\n",
       "      <td>Associate Manager Data Engineering</td>\n",
       "      <td>Analytics</td>\n",
       "      <td>SQL , Javascript , Automation , Python , Ruby ...</td>\n",
       "      <td>Bengaluru</td>\n",
       "      <td>10to15</td>\n",
       "      <td>313</td>\n",
       "      <td>0.142412</td>\n",
       "      <td>low</td>\n",
       "      <td>7 - 10 year overall experience datum engineer ...</td>\n",
       "    </tr>\n",
       "    <tr>\n",
       "      <th>6</th>\n",
       "      <td>14</td>\n",
       "      <td>- experience managing fraud analytic knowledge...</td>\n",
       "      <td>Associate Vice President - Fraud Analytics - S...</td>\n",
       "      <td>Analytics</td>\n",
       "      <td>Fraud Analytics , People Management Skills , T...</td>\n",
       "      <td>Delhi NCR</td>\n",
       "      <td>25to50</td>\n",
       "      <td>1988</td>\n",
       "      <td>0.573411</td>\n",
       "      <td>low</td>\n",
       "      <td>- experience managing fraud analytic knowledge...</td>\n",
       "    </tr>\n",
       "    <tr>\n",
       "      <th>11</th>\n",
       "      <td>11</td>\n",
       "      <td>- experience Credit card/ banking domain knowl...</td>\n",
       "      <td>Senior AVP - Model Development - Bank - IIM/ M...</td>\n",
       "      <td>Analytics</td>\n",
       "      <td>banking , Model Development , Analytics , Peop...</td>\n",
       "      <td>Delhi NCR, Gurgaon</td>\n",
       "      <td>10to15</td>\n",
       "      <td>1969</td>\n",
       "      <td>0.142412</td>\n",
       "      <td>low</td>\n",
       "      <td>- experience Credit card/ banking domain knowl...</td>\n",
       "    </tr>\n",
       "    <tr>\n",
       "      <th>12</th>\n",
       "      <td>4</td>\n",
       "      <td>3 + year software development experience ; lev...</td>\n",
       "      <td>Sales and Marketing Data Analyst - Data Analytics</td>\n",
       "      <td>Analytics</td>\n",
       "      <td>Marketing Automation , Sales , Salesforce , El...</td>\n",
       "      <td>Pune(Kharadi)</td>\n",
       "      <td>10to15</td>\n",
       "      <td>3692</td>\n",
       "      <td>0.142412</td>\n",
       "      <td>low</td>\n",
       "      <td>3 + year software development experience ; lev...</td>\n",
       "    </tr>\n",
       "    <tr>\n",
       "      <th>...</th>\n",
       "      <td>...</td>\n",
       "      <td>...</td>\n",
       "      <td>...</td>\n",
       "      <td>...</td>\n",
       "      <td>...</td>\n",
       "      <td>...</td>\n",
       "      <td>...</td>\n",
       "      <td>...</td>\n",
       "      <td>...</td>\n",
       "      <td>...</td>\n",
       "      <td>...</td>\n",
       "    </tr>\n",
       "    <tr>\n",
       "      <th>19766</th>\n",
       "      <td>9</td>\n",
       "      <td>- proficient translate unstructured business p...</td>\n",
       "      <td>Data Scientist - IT Services Firm</td>\n",
       "      <td>analytics</td>\n",
       "      <td>r , big datum analytic , predictive modeling ,...</td>\n",
       "      <td>Mumbai</td>\n",
       "      <td>15to25</td>\n",
       "      <td>4301</td>\n",
       "      <td>0.373022</td>\n",
       "      <td>low</td>\n",
       "      <td>- proficient translate unstructured business p...</td>\n",
       "    </tr>\n",
       "    <tr>\n",
       "      <th>19768</th>\n",
       "      <td>5</td>\n",
       "      <td>candidate good knowledge VBA/ excel ; good kno...</td>\n",
       "      <td>Sr. Analyst - Data Analytics &amp; Reporting - VBA...</td>\n",
       "      <td>Analytics</td>\n",
       "      <td>Data Analytics , Data Analysis , Advanced Anal...</td>\n",
       "      <td>Bengaluru</td>\n",
       "      <td>10to15</td>\n",
       "      <td>2718</td>\n",
       "      <td>0.142412</td>\n",
       "      <td>low</td>\n",
       "      <td>candidate good knowledge VBA/ excel ; good kno...</td>\n",
       "    </tr>\n",
       "    <tr>\n",
       "      <th>19777</th>\n",
       "      <td>10</td>\n",
       "      <td>- applicant good understanding reporting , dat...</td>\n",
       "      <td>Senior Manager - Reporting/analytics &amp; Busines...</td>\n",
       "      <td>analytics</td>\n",
       "      <td>sale enablement , mis , business operation , b...</td>\n",
       "      <td>Bengaluru</td>\n",
       "      <td>25to50</td>\n",
       "      <td>1893</td>\n",
       "      <td>0.573411</td>\n",
       "      <td>low</td>\n",
       "      <td>- applicant good understanding reporting , dat...</td>\n",
       "    </tr>\n",
       "    <tr>\n",
       "      <th>19793</th>\n",
       "      <td>5</td>\n",
       "      <td>program knowledge ( Python / Java ) good under...</td>\n",
       "      <td>SDET - Selenium Webdriver &amp; (python/java)</td>\n",
       "      <td>Analytics</td>\n",
       "      <td>java , selenium webdriver , sdet , python , co...</td>\n",
       "      <td>Chennai</td>\n",
       "      <td>10to15</td>\n",
       "      <td>1727</td>\n",
       "      <td>0.142412</td>\n",
       "      <td>low</td>\n",
       "      <td>program knowledge ( Python / Java ) good under...</td>\n",
       "    </tr>\n",
       "    <tr>\n",
       "      <th>19794</th>\n",
       "      <td>9</td>\n",
       "      <td>sell saas security solution SOAR space atleast...</td>\n",
       "      <td>Solution Architect-security for Bangalore / Mu...</td>\n",
       "      <td>Analytics</td>\n",
       "      <td>Security Analytics , SIEM , Arcsight , QRadar ...</td>\n",
       "      <td>Bengaluru, Delhi NCR, Mumbai</td>\n",
       "      <td>10to15</td>\n",
       "      <td>4384</td>\n",
       "      <td>0.142412</td>\n",
       "      <td>low</td>\n",
       "      <td>sell saas security solution SOAR space atleast...</td>\n",
       "    </tr>\n",
       "  </tbody>\n",
       "</table>\n",
       "<p>3855 rows × 11 columns</p>\n",
       "</div>"
      ],
      "text/plain": [
       "       experience                                    job_description  \\\n",
       "2               7  must effective communicator ( write & speak ) ...   \n",
       "3               8  7 - 10 year overall experience datum engineer ...   \n",
       "6              14  - experience managing fraud analytic knowledge...   \n",
       "11             11  - experience Credit card/ banking domain knowl...   \n",
       "12              4  3 + year software development experience ; lev...   \n",
       "...           ...                                                ...   \n",
       "19766           9  - proficient translate unstructured business p...   \n",
       "19768           5  candidate good knowledge VBA/ excel ; good kno...   \n",
       "19777          10  - applicant good understanding reporting , dat...   \n",
       "19793           5  program knowledge ( Python / Java ) good under...   \n",
       "19794           9  sell saas security solution SOAR space atleast...   \n",
       "\n",
       "                                               job_desig   job_type  \\\n",
       "2      Deputy Manager - Talent Management & Leadershi...  Analytics   \n",
       "3                     Associate Manager Data Engineering  Analytics   \n",
       "6      Associate Vice President - Fraud Analytics - S...  Analytics   \n",
       "11     Senior AVP - Model Development - Bank - IIM/ M...  Analytics   \n",
       "12     Sales and Marketing Data Analyst - Data Analytics  Analytics   \n",
       "...                                                  ...        ...   \n",
       "19766                  Data Scientist - IT Services Firm  analytics   \n",
       "19768  Sr. Analyst - Data Analytics & Reporting - VBA...  Analytics   \n",
       "19777  Senior Manager - Reporting/analytics & Busines...  analytics   \n",
       "19793          SDET - Selenium Webdriver & (python/java)  Analytics   \n",
       "19794  Solution Architect-security for Bangalore / Mu...  Analytics   \n",
       "\n",
       "                                              key_skills  \\\n",
       "2      HR Analytics , Employee Engagement , training ...   \n",
       "3      SQL , Javascript , Automation , Python , Ruby ...   \n",
       "6      Fraud Analytics , People Management Skills , T...   \n",
       "11     banking , Model Development , Analytics , Peop...   \n",
       "12     Marketing Automation , Sales , Salesforce , El...   \n",
       "...                                                  ...   \n",
       "19766  r , big datum analytic , predictive modeling ,...   \n",
       "19768  Data Analytics , Data Analysis , Advanced Anal...   \n",
       "19777  sale enablement , mis , business operation , b...   \n",
       "19793  java , selenium webdriver , sdet , python , co...   \n",
       "19794  Security Analytics , SIEM , Arcsight , QRadar ...   \n",
       "\n",
       "                           location  salary  company_name_encoded  \\\n",
       "2                         Delhi NCR  15to25                  4195   \n",
       "3                         Bengaluru  10to15                   313   \n",
       "6                         Delhi NCR  25to50                  1988   \n",
       "11               Delhi NCR, Gurgaon  10to15                  1969   \n",
       "12                    Pune(Kharadi)  10to15                  3692   \n",
       "...                             ...     ...                   ...   \n",
       "19766                        Mumbai  15to25                  4301   \n",
       "19768                     Bengaluru  10to15                  2718   \n",
       "19777                     Bengaluru  25to50                  1893   \n",
       "19793                       Chennai  10to15                  1727   \n",
       "19794  Bengaluru, Delhi NCR, Mumbai  10to15                  4384   \n",
       "\n",
       "       Salary_Percentile salary1  \\\n",
       "2               0.373022     low   \n",
       "3               0.142412     low   \n",
       "6               0.573411     low   \n",
       "11              0.142412     low   \n",
       "12              0.142412     low   \n",
       "...                  ...     ...   \n",
       "19766           0.373022     low   \n",
       "19768           0.142412     low   \n",
       "19777           0.573411     low   \n",
       "19793           0.142412     low   \n",
       "19794           0.142412     low   \n",
       "\n",
       "                                           combined_text  \n",
       "2      must effective communicator ( write & speak ) ...  \n",
       "3      7 - 10 year overall experience datum engineer ...  \n",
       "6      - experience managing fraud analytic knowledge...  \n",
       "11     - experience Credit card/ banking domain knowl...  \n",
       "12     3 + year software development experience ; lev...  \n",
       "...                                                  ...  \n",
       "19766  - proficient translate unstructured business p...  \n",
       "19768  candidate good knowledge VBA/ excel ; good kno...  \n",
       "19777  - applicant good understanding reporting , dat...  \n",
       "19793  program knowledge ( Python / Java ) good under...  \n",
       "19794  sell saas security solution SOAR space atleast...  \n",
       "\n",
       "[3855 rows x 11 columns]"
      ]
     },
     "execution_count": 108,
     "metadata": {},
     "output_type": "execute_result"
    }
   ],
   "source": [
    "df"
   ]
  },
  {
   "cell_type": "code",
   "execution_count": 109,
   "id": "90a0e8d5",
   "metadata": {},
   "outputs": [],
   "source": [
    "import nltk\n",
    "import spacy\n",
    "from nltk.corpus import stopwords\n",
    "from nltk.tokenize import word_tokenize\n",
    "\n",
    "\n"
   ]
  },
  {
   "cell_type": "code",
   "execution_count": 110,
   "id": "a3b71b4e",
   "metadata": {},
   "outputs": [
    {
     "data": {
      "text/plain": [
       "2        must effective communicator ( write & speak ) ...\n",
       "3        7 - 10 year overall experience datum engineer ...\n",
       "6        - experience managing fraud analytic knowledge...\n",
       "11       - experience Credit card/ banking domain knowl...\n",
       "12       3 + year software development experience ; lev...\n",
       "                               ...                        \n",
       "19766    - proficient translate unstructured business p...\n",
       "19768    candidate good knowledge VBA/ excel ; good kno...\n",
       "19777    - applicant good understanding reporting , dat...\n",
       "19793    program knowledge ( Python / Java ) good under...\n",
       "19794    sell saas security solution SOAR space atleast...\n",
       "Name: job_description, Length: 3855, dtype: object"
      ]
     },
     "execution_count": 110,
     "metadata": {},
     "output_type": "execute_result"
    }
   ],
   "source": [
    "# Define stop words and stemmer\n",
    "stop_words = set(stopwords.words('english'))\n",
    "stemmer = PorterStemmer()\n",
    "\n",
    "\n",
    "text =df['job_description']\n",
    "\n",
    "text"
   ]
  },
  {
   "cell_type": "markdown",
   "id": "3355658b",
   "metadata": {},
   "source": [
    "# Q1"
   ]
  },
  {
   "cell_type": "markdown",
   "id": "8e325618",
   "metadata": {},
   "source": [
    "Q1\n",
    "Text Preprocessing and Feature Extraction: \n",
    "•\tImplement text preprocessing techniques (e.g., tokenization, stop word removal, and stemming/lemmatization) on the job_description and key_skills columns.\n"
   ]
  },
  {
   "cell_type": "code",
   "execution_count": 111,
   "id": "df8003ac",
   "metadata": {},
   "outputs": [],
   "source": [
    "# Load spaCy's English NLP model\n",
    "nlp = spacy.load(\"en_core_web_sm\")\n",
    "\n",
    "# Define stop words\n",
    "stop_words = set(stopwords.words('english'))\n",
    "\n",
    "# Preprocessing function\n",
    "def preprocess(text):\n",
    "    # Tokenization\n",
    "    tokens = word_tokenize(text)\n",
    "    \n",
    "    # Stopword Removal\n",
    "    tokens = [word for word in tokens if word.lower() not in stop_words]\n",
    "    \n",
    "    # Lemmatization\n",
    "    lemmatized_tokens = []\n",
    "    doc = nlp(\" \".join(tokens))\n",
    "    for token in doc:\n",
    "        lemmatized_tokens.append(token.lemma_)\n",
    "    \n",
    "    return \" \".join(lemmatized_tokens)\n",
    "\n",
    "# Apply preprocessing to the columns\n",
    "df['job_description'] = df['job_description'].apply(preprocess)\n",
    "df['key_skills'] = df['key_skills'].apply(preprocess)\n",
    "\n"
   ]
  },
  {
   "cell_type": "code",
   "execution_count": 112,
   "id": "84b54741",
   "metadata": {},
   "outputs": [
    {
     "data": {
      "text/plain": [
       "2        HR Analytics , Employee Engagement , training ...\n",
       "3        SQL , Javascript , Automation , Python , Ruby ...\n",
       "6        Fraud Analytics , People Management Skills , T...\n",
       "11       banking , Model Development , Analytics , Peop...\n",
       "12       Marketing Automation , Sales , Salesforce , El...\n",
       "                               ...                        \n",
       "19766    r , big datum analytic , predictive modeling ,...\n",
       "19768    Data Analytics , Data Analysis , Advanced Anal...\n",
       "19777    sale enablement , mis , business operation , b...\n",
       "19793    java , selenium webdriver , sdet , python , co...\n",
       "19794    Security Analytics , SIEM , Arcsight , QRadar ...\n",
       "Name: key_skills, Length: 3855, dtype: object"
      ]
     },
     "execution_count": 112,
     "metadata": {},
     "output_type": "execute_result"
    }
   ],
   "source": [
    "df['key_skills'] "
   ]
  },
  {
   "cell_type": "code",
   "execution_count": 113,
   "id": "bcdc3c5b",
   "metadata": {},
   "outputs": [
    {
     "data": {
      "text/plain": [
       "2        must effective communicator ( write & speak ) ...\n",
       "3        7 - 10 year overall experience datum engineer ...\n",
       "6        - experience manage fraud analytic knowledge a...\n",
       "11       - experience credit card/ banking domain knowl...\n",
       "12       3 + year software development experience ; lev...\n",
       "                               ...                        \n",
       "19766    - proficient translate unstructured business p...\n",
       "19768    candidate good knowledge VBA/ excel ; good kno...\n",
       "19777    - applicant good understanding reporting , dat...\n",
       "19793    program knowledge ( Python / Java ) good under...\n",
       "19794    sell saas security solution SOAR space atleast...\n",
       "Name: job_description, Length: 3855, dtype: object"
      ]
     },
     "execution_count": 113,
     "metadata": {},
     "output_type": "execute_result"
    }
   ],
   "source": [
    "df['job_description']"
   ]
  },
  {
   "cell_type": "markdown",
   "id": "4e9b7915",
   "metadata": {},
   "source": [
    "•\tExtract relevant features from the text data for model training, such as TF-IDF or word embeddings. How can these features improve the prediction of salary?"
   ]
  },
  {
   "cell_type": "code",
   "execution_count": 114,
   "id": "b37d2365",
   "metadata": {},
   "outputs": [],
   "source": [
    "from sklearn.feature_extraction.text import TfidfVectorizer\n",
    "\n",
    "# Combine job_description and key_skills for better feature representation\n",
    "df['combined_text'] = df['job_description'] + \" \" + df['key_skills']\n",
    "\n",
    "# Create a TF-IDF vectorizer\n",
    "vectorizer = TfidfVectorizer(max_features=5000)  # considering top 5000 features\n",
    "tfidf_matrix = vectorizer.fit_transform(df['combined_text'])\n"
   ]
  },
  {
   "cell_type": "code",
   "execution_count": 115,
   "id": "3904e714",
   "metadata": {},
   "outputs": [
    {
     "name": "stdout",
     "output_type": "stream",
     "text": [
      "Values of the tfidf_matrix for the first 5 records:\n",
      "[[0. 0. 0. ... 0. 0. 0.]\n",
      " [0. 0. 0. ... 0. 0. 0.]\n",
      " [0. 0. 0. ... 0. 0. 0.]\n",
      " [0. 0. 0. ... 0. 0. 0.]\n",
      " [0. 0. 0. ... 0. 0. 0.]]\n"
     ]
    }
   ],
   "source": [
    "print(\"Values of the tfidf_matrix for the first 5 records:\")\n",
    "print(tfidf_matrix.todense()[:5])  # Print the values for the first 5 records\n",
    "\n"
   ]
  },
  {
   "cell_type": "code",
   "execution_count": 121,
   "id": "c9c072c6",
   "metadata": {},
   "outputs": [],
   "source": [
    "def get_average_word_vector(text, model=nlp, vector_size=300):\n",
    "    # Tokenize the text and filter out tokens that don't have a vector\n",
    "    doc = model(text)\n",
    "    vectors = [token.vector for token in doc if token.has_vector]\n",
    "    \n",
    "    # If no tokens have vectors, return a zero vector\n",
    "    if len(vectors) == 0:\n",
    "        return [0] * vector_size\n",
    "    \n",
    "    # Average the vectors\n",
    "    return sum(vectors) / len(vectors)\n",
    "\n",
    "df['embedding_vector'] = df['combined_text'].apply(lambda x: get_average_word_vector(x))\n"
   ]
  },
  {
   "cell_type": "code",
   "execution_count": 116,
   "id": "18f004db",
   "metadata": {},
   "outputs": [],
   "source": [
    "# Convert string value in experience to float"
   ]
  },
  {
   "cell_type": "markdown",
   "id": "a5efce29",
   "metadata": {},
   "source": [
    "# Q4\n",
    "Skill Requirements:\n",
    "•\tInvestigate the significance of key skills (from the 'key_skills' column) in determining salary levels. Identify the most influential skills and their effect on salary predictions.\n"
   ]
  },
  {
   "cell_type": "code",
   "execution_count": 185,
   "id": "6ab610f4",
   "metadata": {},
   "outputs": [],
   "source": [
    "import pandas as pd\n",
    "\n",
    "path = r'C:\\Users\\arvind_kumar21\\Documents\\Arvind_Backup\\AI_ML_RACE\\AI06_TRIM02_Module05_NLP\\Final Exam\\data_set.csv'\n",
    "df = pd.read_csv(path)"
   ]
  },
  {
   "cell_type": "code",
   "execution_count": 186,
   "id": "f4177732",
   "metadata": {},
   "outputs": [
    {
     "data": {
      "text/html": [
       "<div>\n",
       "<style scoped>\n",
       "    .dataframe tbody tr th:only-of-type {\n",
       "        vertical-align: middle;\n",
       "    }\n",
       "\n",
       "    .dataframe tbody tr th {\n",
       "        vertical-align: top;\n",
       "    }\n",
       "\n",
       "    .dataframe thead th {\n",
       "        text-align: right;\n",
       "    }\n",
       "</style>\n",
       "<table border=\"1\" class=\"dataframe\">\n",
       "  <thead>\n",
       "    <tr style=\"text-align: right;\">\n",
       "      <th></th>\n",
       "      <th>experience</th>\n",
       "      <th>job_description</th>\n",
       "      <th>job_desig</th>\n",
       "      <th>job_type</th>\n",
       "      <th>key_skills</th>\n",
       "      <th>location</th>\n",
       "      <th>salary</th>\n",
       "      <th>company_name_encoded</th>\n",
       "    </tr>\n",
       "  </thead>\n",
       "  <tbody>\n",
       "    <tr>\n",
       "      <th>0</th>\n",
       "      <td>5-7 yrs</td>\n",
       "      <td>Exp: Minimum 5 years;Good understanding of IOC...</td>\n",
       "      <td>Senior Exploit and Vulnerability Researcher</td>\n",
       "      <td>NaN</td>\n",
       "      <td>team skills, communication skills, analytical ...</td>\n",
       "      <td>Delhi NCR(Vikas Puri)</td>\n",
       "      <td>6to10</td>\n",
       "      <td>3687</td>\n",
       "    </tr>\n",
       "    <tr>\n",
       "      <th>1</th>\n",
       "      <td>10-17 yrs</td>\n",
       "      <td>He should have handled a team of atleast 5-6 d...</td>\n",
       "      <td>Head SCM</td>\n",
       "      <td>NaN</td>\n",
       "      <td>ppc, logistics, inventory management, supply c...</td>\n",
       "      <td>Sonepat</td>\n",
       "      <td>10to15</td>\n",
       "      <td>458</td>\n",
       "    </tr>\n",
       "  </tbody>\n",
       "</table>\n",
       "</div>"
      ],
      "text/plain": [
       "  experience                                    job_description  \\\n",
       "0    5-7 yrs  Exp: Minimum 5 years;Good understanding of IOC...   \n",
       "1  10-17 yrs  He should have handled a team of atleast 5-6 d...   \n",
       "\n",
       "                                     job_desig job_type  \\\n",
       "0  Senior Exploit and Vulnerability Researcher      NaN   \n",
       "1                                     Head SCM      NaN   \n",
       "\n",
       "                                          key_skills               location  \\\n",
       "0  team skills, communication skills, analytical ...  Delhi NCR(Vikas Puri)   \n",
       "1  ppc, logistics, inventory management, supply c...                Sonepat   \n",
       "\n",
       "   salary  company_name_encoded  \n",
       "0   6to10                  3687  \n",
       "1  10to15                   458  "
      ]
     },
     "execution_count": 186,
     "metadata": {},
     "output_type": "execute_result"
    }
   ],
   "source": [
    "df.head(2)"
   ]
  },
  {
   "cell_type": "code",
   "execution_count": 187,
   "id": "075d9bfa",
   "metadata": {},
   "outputs": [],
   "source": [
    "df['key_skills'] = df['key_skills'].fillna('missing')\n"
   ]
  },
  {
   "cell_type": "code",
   "execution_count": 188,
   "id": "e126c2e6",
   "metadata": {},
   "outputs": [],
   "source": [
    "def extract_experience(exp_str):\n",
    "    # Split by '-'\n",
    "    parts = exp_str.split('-')\n",
    "    \n",
    "    if len(parts) == 1:  # Single year format\n",
    "        return int(parts[0].strip().split()[0])\n",
    "    else:  # Range format\n",
    "        lower = int(parts[0].strip())\n",
    "        upper = int(parts[1].strip().split()[0])\n",
    "        \n",
    "        # Return average of range\n",
    "        return (lower + upper) // 2\n",
    "\n",
    "df['experience'] = df['experience'].apply(extract_experience)\n"
   ]
  },
  {
   "cell_type": "code",
   "execution_count": null,
   "id": "0c44fb9a",
   "metadata": {},
   "outputs": [],
   "source": [
    "# Convert salary into numeric values"
   ]
  },
  {
   "cell_type": "code",
   "execution_count": 189,
   "id": "04f3ab85",
   "metadata": {},
   "outputs": [],
   "source": [
    "def extract_experience(exp_str):\n",
    "    # Split by '-'\n",
    "    parts = exp_str.split('to')\n",
    "    \n",
    "    if len(parts) == 1:  # Single year format\n",
    "        return int(parts[0].strip().split()[0])\n",
    "    else:  # Range format\n",
    "        lower = int(parts[0].strip())\n",
    "        upper = int(parts[1].strip().split()[0])\n",
    "        \n",
    "        # Return average of range\n",
    "        return (lower + upper) // 2\n",
    "\n",
    "df['salary'] = df['salary'].apply(extract_experience)\n"
   ]
  },
  {
   "cell_type": "code",
   "execution_count": 190,
   "id": "cfed21f5",
   "metadata": {
    "scrolled": true
   },
   "outputs": [
    {
     "data": {
      "text/html": [
       "<div>\n",
       "<style scoped>\n",
       "    .dataframe tbody tr th:only-of-type {\n",
       "        vertical-align: middle;\n",
       "    }\n",
       "\n",
       "    .dataframe tbody tr th {\n",
       "        vertical-align: top;\n",
       "    }\n",
       "\n",
       "    .dataframe thead th {\n",
       "        text-align: right;\n",
       "    }\n",
       "</style>\n",
       "<table border=\"1\" class=\"dataframe\">\n",
       "  <thead>\n",
       "    <tr style=\"text-align: right;\">\n",
       "      <th></th>\n",
       "      <th>experience</th>\n",
       "      <th>job_description</th>\n",
       "      <th>job_desig</th>\n",
       "      <th>job_type</th>\n",
       "      <th>key_skills</th>\n",
       "      <th>location</th>\n",
       "      <th>salary</th>\n",
       "      <th>company_name_encoded</th>\n",
       "    </tr>\n",
       "  </thead>\n",
       "  <tbody>\n",
       "    <tr>\n",
       "      <th>0</th>\n",
       "      <td>6</td>\n",
       "      <td>Exp: Minimum 5 years;Good understanding of IOC...</td>\n",
       "      <td>Senior Exploit and Vulnerability Researcher</td>\n",
       "      <td>NaN</td>\n",
       "      <td>team skills, communication skills, analytical ...</td>\n",
       "      <td>Delhi NCR(Vikas Puri)</td>\n",
       "      <td>8</td>\n",
       "      <td>3687</td>\n",
       "    </tr>\n",
       "    <tr>\n",
       "      <th>1</th>\n",
       "      <td>13</td>\n",
       "      <td>He should have handled a team of atleast 5-6 d...</td>\n",
       "      <td>Head SCM</td>\n",
       "      <td>NaN</td>\n",
       "      <td>ppc, logistics, inventory management, supply c...</td>\n",
       "      <td>Sonepat</td>\n",
       "      <td>12</td>\n",
       "      <td>458</td>\n",
       "    </tr>\n",
       "    <tr>\n",
       "      <th>2</th>\n",
       "      <td>7</td>\n",
       "      <td>Must be an effective communicator (written &amp; s...</td>\n",
       "      <td>Deputy Manager - Talent Management &amp; Leadershi...</td>\n",
       "      <td>Analytics</td>\n",
       "      <td>HR Analytics, Employee Engagement, Training, S...</td>\n",
       "      <td>Delhi NCR</td>\n",
       "      <td>20</td>\n",
       "      <td>4195</td>\n",
       "    </tr>\n",
       "    <tr>\n",
       "      <th>3</th>\n",
       "      <td>8</td>\n",
       "      <td>7  -  10 years of overall experience in data e...</td>\n",
       "      <td>Associate Manager Data Engineering</td>\n",
       "      <td>Analytics</td>\n",
       "      <td>SQL, Javascript, Automation, Python, Ruby, Ana...</td>\n",
       "      <td>Bengaluru</td>\n",
       "      <td>12</td>\n",
       "      <td>313</td>\n",
       "    </tr>\n",
       "    <tr>\n",
       "      <th>4</th>\n",
       "      <td>2</td>\n",
       "      <td>Chartered Accountancy degree or MBA in Finance...</td>\n",
       "      <td>TS- GSA- Senior Analyst</td>\n",
       "      <td>NaN</td>\n",
       "      <td>accounting, finance, cash flow, financial plan...</td>\n",
       "      <td>Gurgaon</td>\n",
       "      <td>4</td>\n",
       "      <td>1305</td>\n",
       "    </tr>\n",
       "    <tr>\n",
       "      <th>5</th>\n",
       "      <td>7</td>\n",
       "      <td>4.\\tWillingness to travel;5.\\tExperience in Te...</td>\n",
       "      <td>Senior Trainer- Academics</td>\n",
       "      <td>NaN</td>\n",
       "      <td>academics, effective communication, teacher tr...</td>\n",
       "      <td>Noida</td>\n",
       "      <td>8</td>\n",
       "      <td>4428</td>\n",
       "    </tr>\n",
       "    <tr>\n",
       "      <th>6</th>\n",
       "      <td>14</td>\n",
       "      <td>- Experience in managing fraud analytics with ...</td>\n",
       "      <td>Associate Vice President - Fraud Analytics - S...</td>\n",
       "      <td>Analytics</td>\n",
       "      <td>Fraud Analytics, People Management Skills, Tea...</td>\n",
       "      <td>Delhi NCR</td>\n",
       "      <td>37</td>\n",
       "      <td>1988</td>\n",
       "    </tr>\n",
       "    <tr>\n",
       "      <th>7</th>\n",
       "      <td>8</td>\n",
       "      <td>Qualified Chartered Accountant with 1-3 yrs of...</td>\n",
       "      <td>Manager - Internal Audit - CA - Big4</td>\n",
       "      <td>NaN</td>\n",
       "      <td>Accounting, Internal Audit, Auditing, Enterpri...</td>\n",
       "      <td>Pune</td>\n",
       "      <td>8</td>\n",
       "      <td>1793</td>\n",
       "    </tr>\n",
       "    <tr>\n",
       "      <th>8</th>\n",
       "      <td>2</td>\n",
       "      <td>Proven experience as payroll executive or spec...</td>\n",
       "      <td>Payroll Executive</td>\n",
       "      <td>NaN</td>\n",
       "      <td>esic, hr, bonus, pf, tds, payroll, superannuat...</td>\n",
       "      <td>Ahmedabad(Bodakdev)</td>\n",
       "      <td>1</td>\n",
       "      <td>3398</td>\n",
       "    </tr>\n",
       "    <tr>\n",
       "      <th>9</th>\n",
       "      <td>4</td>\n",
       "      <td>Other activities as may be required over the p...</td>\n",
       "      <td>Required CA (manager Finance) for R&amp;R Salons P...</td>\n",
       "      <td>NaN</td>\n",
       "      <td>accounting standards, finance, auditing, finan...</td>\n",
       "      <td>Bengaluru(Kodihalli)</td>\n",
       "      <td>20</td>\n",
       "      <td>3444</td>\n",
       "    </tr>\n",
       "  </tbody>\n",
       "</table>\n",
       "</div>"
      ],
      "text/plain": [
       "   experience                                    job_description  \\\n",
       "0           6  Exp: Minimum 5 years;Good understanding of IOC...   \n",
       "1          13  He should have handled a team of atleast 5-6 d...   \n",
       "2           7  Must be an effective communicator (written & s...   \n",
       "3           8  7  -  10 years of overall experience in data e...   \n",
       "4           2  Chartered Accountancy degree or MBA in Finance...   \n",
       "5           7  4.\\tWillingness to travel;5.\\tExperience in Te...   \n",
       "6          14  - Experience in managing fraud analytics with ...   \n",
       "7           8  Qualified Chartered Accountant with 1-3 yrs of...   \n",
       "8           2  Proven experience as payroll executive or spec...   \n",
       "9           4  Other activities as may be required over the p...   \n",
       "\n",
       "                                           job_desig   job_type  \\\n",
       "0        Senior Exploit and Vulnerability Researcher        NaN   \n",
       "1                                           Head SCM        NaN   \n",
       "2  Deputy Manager - Talent Management & Leadershi...  Analytics   \n",
       "3                 Associate Manager Data Engineering  Analytics   \n",
       "4                            TS- GSA- Senior Analyst        NaN   \n",
       "5                          Senior Trainer- Academics        NaN   \n",
       "6  Associate Vice President - Fraud Analytics - S...  Analytics   \n",
       "7               Manager - Internal Audit - CA - Big4        NaN   \n",
       "8                                  Payroll Executive        NaN   \n",
       "9  Required CA (manager Finance) for R&R Salons P...        NaN   \n",
       "\n",
       "                                          key_skills               location  \\\n",
       "0  team skills, communication skills, analytical ...  Delhi NCR(Vikas Puri)   \n",
       "1  ppc, logistics, inventory management, supply c...                Sonepat   \n",
       "2  HR Analytics, Employee Engagement, Training, S...              Delhi NCR   \n",
       "3  SQL, Javascript, Automation, Python, Ruby, Ana...              Bengaluru   \n",
       "4  accounting, finance, cash flow, financial plan...                Gurgaon   \n",
       "5  academics, effective communication, teacher tr...                  Noida   \n",
       "6  Fraud Analytics, People Management Skills, Tea...              Delhi NCR   \n",
       "7  Accounting, Internal Audit, Auditing, Enterpri...                   Pune   \n",
       "8  esic, hr, bonus, pf, tds, payroll, superannuat...    Ahmedabad(Bodakdev)   \n",
       "9  accounting standards, finance, auditing, finan...   Bengaluru(Kodihalli)   \n",
       "\n",
       "   salary  company_name_encoded  \n",
       "0       8                  3687  \n",
       "1      12                   458  \n",
       "2      20                  4195  \n",
       "3      12                   313  \n",
       "4       4                  1305  \n",
       "5       8                  4428  \n",
       "6      37                  1988  \n",
       "7       8                  1793  \n",
       "8       1                  3398  \n",
       "9      20                  3444  "
      ]
     },
     "execution_count": 190,
     "metadata": {},
     "output_type": "execute_result"
    }
   ],
   "source": [
    "df.head(10)"
   ]
  },
  {
   "cell_type": "code",
   "execution_count": 191,
   "id": "b0095eaa",
   "metadata": {},
   "outputs": [],
   "source": [
    "# Text preprocessing\n",
    "df['key_skills'] = df['key_skills'].str.lower().str.replace('[^\\w\\s]', '')\n"
   ]
  },
  {
   "cell_type": "code",
   "execution_count": 192,
   "id": "c3144f01",
   "metadata": {},
   "outputs": [
    {
     "name": "stderr",
     "output_type": "stream",
     "text": [
      "C:\\Users\\arvind_kumar21\\Anaconda3\\lib\\site-packages\\sklearn\\feature_extraction\\text.py:525: UserWarning: The parameter 'token_pattern' will not be used since 'tokenizer' is not None'\n",
      "  warnings.warn(\n"
     ]
    }
   ],
   "source": [
    "#One-Hot Encoding:\n",
    "from sklearn.feature_extraction.text import CountVectorizer\n",
    "\n",
    "vectorizer = CountVectorizer(tokenizer=lambda x: x.split(', '))\n",
    "skills_matrix = vectorizer.fit_transform(df['key_skills'])\n",
    "skills_df = pd.DataFrame(skills_matrix.toarray(), columns=vectorizer.get_feature_names_out())\n",
    "\n"
   ]
  },
  {
   "cell_type": "code",
   "execution_count": 193,
   "id": "cb99c585",
   "metadata": {},
   "outputs": [],
   "source": [
    "#Correlation Analysis:\n",
    "correlations = {}\n",
    "for column in skills_df:\n",
    "    correlations[column] = df['salary'].corr(skills_df[column])\n",
    "\n",
    "sorted_skills = sorted(correlations.items(), key=lambda x: x[1], reverse=True)\n"
   ]
  },
  {
   "cell_type": "code",
   "execution_count": 194,
   "id": "8f11357e",
   "metadata": {},
   "outputs": [
    {
     "name": "stdout",
     "output_type": "stream",
     "text": [
      "[('r', 0.11382664225405606), ('sas', 0.09913133033121527), ('data science', 0.08890494829328592), ('machine learning', 0.08819917758280758), ('insurance analytics', 0.07832334976890044), ('anova', 0.07089693834539378), ('analytics head', 0.07054876218358516), ('java', 0.07041293707544488), ('spark', 0.06904764515153843), ('team leading', 0.0680629048598356)]\n"
     ]
    }
   ],
   "source": [
    "#Insights:\n",
    "top_skills = sorted_skills[:10]  # adjust as needed\n",
    "print(top_skills)\n"
   ]
  },
  {
   "cell_type": "markdown",
   "id": "7d9faf47",
   "metadata": {},
   "source": [
    "# Q3\n",
    "Job Location Impact:\n",
    "•\tAnalyze the impact of job location (from the 'location' column) on salary predictions. Are there specific locations associated with higher or lower salaries? Use NLP techniques to uncover location-related insights."
   ]
  },
  {
   "cell_type": "code",
   "execution_count": 195,
   "id": "7c59f507",
   "metadata": {},
   "outputs": [],
   "source": [
    "#Group by Location and Compute Mean Salary:\n",
    "location_salary = df.groupby('location')['salary'].mean().sort_values(ascending=False)"
   ]
  },
  {
   "cell_type": "code",
   "execution_count": 196,
   "id": "058f5abc",
   "metadata": {},
   "outputs": [
    {
     "data": {
      "image/png": "[encoded data removed]",
      "text/plain": [
       "<Figure size 864x432 with 1 Axes>"
      ]
     },
     "metadata": {
      "needs_background": "light"
     },
     "output_type": "display_data"
    }
   ],
   "source": [
    "import matplotlib.pyplot as plt\n",
    "\n",
    "top_locations = location_salary.head(10)  # Considering top 10 locations by average salary\n",
    "top_locations.plot(kind='bar', figsize=(12, 6))\n",
    "\n",
    "plt.title('Average Salary by Location')\n",
    "plt.ylabel('Average Salary')\n",
    "plt.xlabel('Location')\n",
    "plt.show()"
   ]
  },
  {
   "cell_type": "markdown",
   "id": "e4e5589b",
   "metadata": {},
   "source": [
    "# Q2\n",
    "•\tBuild a predictive model to estimate the salary based on the provided features (excluding salary itself). Choose an appropriate algorithm and evaluate the model's performance using regression metrics like Mean Absolute Error (MAE) and Root Mean Squared Error (RMSE). How well does the model perform?"
   ]
  },
  {
   "cell_type": "code",
   "execution_count": 203,
   "id": "98b8f52b",
   "metadata": {},
   "outputs": [],
   "source": [
    "X = df[['experience']]\n",
    "y = df['salary']\n"
   ]
  },
  {
   "cell_type": "code",
   "execution_count": 204,
   "id": "a93eefaf",
   "metadata": {},
   "outputs": [],
   "source": [
    "from sklearn.preprocessing import LabelEncoder"
   ]
  },
  {
   "cell_type": "code",
   "execution_count": 205,
   "id": "7df88795",
   "metadata": {},
   "outputs": [
    {
     "name": "stdout",
     "output_type": "stream",
     "text": [
      "[ 6 13  7 ... 10  2  3]\n"
     ]
    }
   ],
   "source": [
    "le = LabelEncoder()\n",
    "labels = df['experience']\n",
    "encoded_labels = le.fit_transform(labels)\n",
    "print(encoded_labels)"
   ]
  },
  {
   "cell_type": "code",
   "execution_count": 206,
   "id": "caa40e2b",
   "metadata": {},
   "outputs": [],
   "source": [
    "X_train, X_test, y_train, y_test = train_test_split(X, y, test_size=0.2, random_state=1)"
   ]
  },
  {
   "cell_type": "code",
   "execution_count": 207,
   "id": "c8f482d1",
   "metadata": {},
   "outputs": [
    {
     "data": {
      "text/html": [
       "<style>#sk-container-id-2 {color: black;}#sk-container-id-2 pre{padding: 0;}#sk-container-id-2 div.sk-toggleable {background-color: white;}#sk-container-id-2 label.sk-toggleable__label {cursor: pointer;display: block;width: 100%;margin-bottom: 0;padding: 0.3em;box-sizing: border-box;text-align: center;}#sk-container-id-2 label.sk-toggleable__label-arrow:before {content: \"▸\";float: left;margin-right: 0.25em;color: #696969;}#sk-container-id-2 label.sk-toggleable__label-arrow:hover:before {color: black;}#sk-container-id-2 div.sk-estimator:hover label.sk-toggleable__label-arrow:before {color: black;}#sk-container-id-2 div.sk-toggleable__content {max-height: 0;max-width: 0;overflow: hidden;text-align: left;background-color: #f0f8ff;}#sk-container-id-2 div.sk-toggleable__content pre {margin: 0.2em;color: black;border-radius: 0.25em;background-color: #f0f8ff;}#sk-container-id-2 input.sk-toggleable__control:checked~div.sk-toggleable__content {max-height: 200px;max-width: 100%;overflow: auto;}#sk-container-id-2 input.sk-toggleable__control:checked~label.sk-toggleable__label-arrow:before {content: \"▾\";}#sk-container-id-2 div.sk-estimator input.sk-toggleable__control:checked~label.sk-toggleable__label {background-color: #d4ebff;}#sk-container-id-2 div.sk-label input.sk-toggleable__control:checked~label.sk-toggleable__label {background-color: #d4ebff;}#sk-container-id-2 input.sk-hidden--visually {border: 0;clip: rect(1px 1px 1px 1px);clip: rect(1px, 1px, 1px, 1px);height: 1px;margin: -1px;overflow: hidden;padding: 0;position: absolute;width: 1px;}#sk-container-id-2 div.sk-estimator {font-family: monospace;background-color: #f0f8ff;border: 1px dotted black;border-radius: 0.25em;box-sizing: border-box;margin-bottom: 0.5em;}#sk-container-id-2 div.sk-estimator:hover {background-color: #d4ebff;}#sk-container-id-2 div.sk-parallel-item::after {content: \"\";width: 100%;border-bottom: 1px solid gray;flex-grow: 1;}#sk-container-id-2 div.sk-label:hover label.sk-toggleable__label {background-color: #d4ebff;}#sk-container-id-2 div.sk-serial::before {content: \"\";position: absolute;border-left: 1px solid gray;box-sizing: border-box;top: 0;bottom: 0;left: 50%;z-index: 0;}#sk-container-id-2 div.sk-serial {display: flex;flex-direction: column;align-items: center;background-color: white;padding-right: 0.2em;padding-left: 0.2em;position: relative;}#sk-container-id-2 div.sk-item {position: relative;z-index: 1;}#sk-container-id-2 div.sk-parallel {display: flex;align-items: stretch;justify-content: center;background-color: white;position: relative;}#sk-container-id-2 div.sk-item::before, #sk-container-id-2 div.sk-parallel-item::before {content: \"\";position: absolute;border-left: 1px solid gray;box-sizing: border-box;top: 0;bottom: 0;left: 50%;z-index: -1;}#sk-container-id-2 div.sk-parallel-item {display: flex;flex-direction: column;z-index: 1;position: relative;background-color: white;}#sk-container-id-2 div.sk-parallel-item:first-child::after {align-self: flex-end;width: 50%;}#sk-container-id-2 div.sk-parallel-item:last-child::after {align-self: flex-start;width: 50%;}#sk-container-id-2 div.sk-parallel-item:only-child::after {width: 0;}#sk-container-id-2 div.sk-dashed-wrapped {border: 1px dashed gray;margin: 0 0.4em 0.5em 0.4em;box-sizing: border-box;padding-bottom: 0.4em;background-color: white;}#sk-container-id-2 div.sk-label label {font-family: monospace;font-weight: bold;display: inline-block;line-height: 1.2em;}#sk-container-id-2 div.sk-label-container {text-align: center;}#sk-container-id-2 div.sk-container {/* jupyter's `normalize.less` sets `[hidden] { display: none; }` but bootstrap.min.css set `[hidden] { display: none !important; }` so we also need the `!important` here to be able to override the default hidden behavior on the sphinx rendered scikit-learn.org. See: https://github.com/scikit-learn/scikit-learn/issues/21755 */display: inline-block !important;position: relative;}#sk-container-id-2 div.sk-text-repr-fallback {display: none;}</style><div id=\"sk-container-id-2\" class=\"sk-top-container\"><div class=\"sk-text-repr-fallback\"><pre>RandomForestRegressor(random_state=42)</pre><b>In a Jupyter environment, please rerun this cell to show the HTML representation or trust the notebook. <br />On GitHub, the HTML representation is unable to render, please try loading this page with nbviewer.org.</b></div><div class=\"sk-container\" hidden><div class=\"sk-item\"><div class=\"sk-estimator sk-toggleable\"><input class=\"sk-toggleable__control sk-hidden--visually\" id=\"sk-estimator-id-2\" type=\"checkbox\" checked><label for=\"sk-estimator-id-2\" class=\"sk-toggleable__label sk-toggleable__label-arrow\">RandomForestRegressor</label><div class=\"sk-toggleable__content\"><pre>RandomForestRegressor(random_state=42)</pre></div></div></div></div></div>"
      ],
      "text/plain": [
       "RandomForestRegressor(random_state=42)"
      ]
     },
     "execution_count": 207,
     "metadata": {},
     "output_type": "execute_result"
    }
   ],
   "source": [
    "# Prediction using Rando Forest\n",
    "from sklearn.ensemble import RandomForestRegressor\n",
    "\n",
    "regressor = RandomForestRegressor(n_estimators=100, random_state=42)\n",
    "regressor.fit(X_train, y_train)\n"
   ]
  },
  {
   "cell_type": "code",
   "execution_count": 208,
   "id": "934ee0ea",
   "metadata": {},
   "outputs": [],
   "source": [
    "y_pred = regressor.predict(X_test)\n"
   ]
  },
  {
   "cell_type": "code",
   "execution_count": 209,
   "id": "c3d3c4a3",
   "metadata": {},
   "outputs": [
    {
     "name": "stdout",
     "output_type": "stream",
     "text": [
      "Mean Absolute Error: 5.378112249975168\n",
      "Root Mean Squared Error: 7.330225211111669\n"
     ]
    }
   ],
   "source": [
    "from sklearn.metrics import mean_absolute_error, mean_squared_error\n",
    "import numpy as np\n",
    "\n",
    "mae = mean_absolute_error(y_test, y_pred)\n",
    "rmse = np.sqrt(mean_squared_error(y_test, y_pred))\n",
    "\n",
    "print(f\"Mean Absolute Error: {mae}\")\n",
    "print(f\"Root Mean Squared Error: {rmse}\")\n"
   ]
  },
  {
   "cell_type": "code",
   "execution_count": 210,
   "id": "5895e9c7",
   "metadata": {},
   "outputs": [
    {
     "data": {
      "text/html": [
       "<style>#sk-container-id-3 {color: black;}#sk-container-id-3 pre{padding: 0;}#sk-container-id-3 div.sk-toggleable {background-color: white;}#sk-container-id-3 label.sk-toggleable__label {cursor: pointer;display: block;width: 100%;margin-bottom: 0;padding: 0.3em;box-sizing: border-box;text-align: center;}#sk-container-id-3 label.sk-toggleable__label-arrow:before {content: \"▸\";float: left;margin-right: 0.25em;color: #696969;}#sk-container-id-3 label.sk-toggleable__label-arrow:hover:before {color: black;}#sk-container-id-3 div.sk-estimator:hover label.sk-toggleable__label-arrow:before {color: black;}#sk-container-id-3 div.sk-toggleable__content {max-height: 0;max-width: 0;overflow: hidden;text-align: left;background-color: #f0f8ff;}#sk-container-id-3 div.sk-toggleable__content pre {margin: 0.2em;color: black;border-radius: 0.25em;background-color: #f0f8ff;}#sk-container-id-3 input.sk-toggleable__control:checked~div.sk-toggleable__content {max-height: 200px;max-width: 100%;overflow: auto;}#sk-container-id-3 input.sk-toggleable__control:checked~label.sk-toggleable__label-arrow:before {content: \"▾\";}#sk-container-id-3 div.sk-estimator input.sk-toggleable__control:checked~label.sk-toggleable__label {background-color: #d4ebff;}#sk-container-id-3 div.sk-label input.sk-toggleable__control:checked~label.sk-toggleable__label {background-color: #d4ebff;}#sk-container-id-3 input.sk-hidden--visually {border: 0;clip: rect(1px 1px 1px 1px);clip: rect(1px, 1px, 1px, 1px);height: 1px;margin: -1px;overflow: hidden;padding: 0;position: absolute;width: 1px;}#sk-container-id-3 div.sk-estimator {font-family: monospace;background-color: #f0f8ff;border: 1px dotted black;border-radius: 0.25em;box-sizing: border-box;margin-bottom: 0.5em;}#sk-container-id-3 div.sk-estimator:hover {background-color: #d4ebff;}#sk-container-id-3 div.sk-parallel-item::after {content: \"\";width: 100%;border-bottom: 1px solid gray;flex-grow: 1;}#sk-container-id-3 div.sk-label:hover label.sk-toggleable__label {background-color: #d4ebff;}#sk-container-id-3 div.sk-serial::before {content: \"\";position: absolute;border-left: 1px solid gray;box-sizing: border-box;top: 0;bottom: 0;left: 50%;z-index: 0;}#sk-container-id-3 div.sk-serial {display: flex;flex-direction: column;align-items: center;background-color: white;padding-right: 0.2em;padding-left: 0.2em;position: relative;}#sk-container-id-3 div.sk-item {position: relative;z-index: 1;}#sk-container-id-3 div.sk-parallel {display: flex;align-items: stretch;justify-content: center;background-color: white;position: relative;}#sk-container-id-3 div.sk-item::before, #sk-container-id-3 div.sk-parallel-item::before {content: \"\";position: absolute;border-left: 1px solid gray;box-sizing: border-box;top: 0;bottom: 0;left: 50%;z-index: -1;}#sk-container-id-3 div.sk-parallel-item {display: flex;flex-direction: column;z-index: 1;position: relative;background-color: white;}#sk-container-id-3 div.sk-parallel-item:first-child::after {align-self: flex-end;width: 50%;}#sk-container-id-3 div.sk-parallel-item:last-child::after {align-self: flex-start;width: 50%;}#sk-container-id-3 div.sk-parallel-item:only-child::after {width: 0;}#sk-container-id-3 div.sk-dashed-wrapped {border: 1px dashed gray;margin: 0 0.4em 0.5em 0.4em;box-sizing: border-box;padding-bottom: 0.4em;background-color: white;}#sk-container-id-3 div.sk-label label {font-family: monospace;font-weight: bold;display: inline-block;line-height: 1.2em;}#sk-container-id-3 div.sk-label-container {text-align: center;}#sk-container-id-3 div.sk-container {/* jupyter's `normalize.less` sets `[hidden] { display: none; }` but bootstrap.min.css set `[hidden] { display: none !important; }` so we also need the `!important` here to be able to override the default hidden behavior on the sphinx rendered scikit-learn.org. See: https://github.com/scikit-learn/scikit-learn/issues/21755 */display: inline-block !important;position: relative;}#sk-container-id-3 div.sk-text-repr-fallback {display: none;}</style><div id=\"sk-container-id-3\" class=\"sk-top-container\"><div class=\"sk-text-repr-fallback\"><pre>LinearRegression()</pre><b>In a Jupyter environment, please rerun this cell to show the HTML representation or trust the notebook. <br />On GitHub, the HTML representation is unable to render, please try loading this page with nbviewer.org.</b></div><div class=\"sk-container\" hidden><div class=\"sk-item\"><div class=\"sk-estimator sk-toggleable\"><input class=\"sk-toggleable__control sk-hidden--visually\" id=\"sk-estimator-id-3\" type=\"checkbox\" checked><label for=\"sk-estimator-id-3\" class=\"sk-toggleable__label sk-toggleable__label-arrow\">LinearRegression</label><div class=\"sk-toggleable__content\"><pre>LinearRegression()</pre></div></div></div></div></div>"
      ],
      "text/plain": [
       "LinearRegression()"
      ]
     },
     "execution_count": 210,
     "metadata": {},
     "output_type": "execute_result"
    }
   ],
   "source": [
    "from sklearn.linear_model import LinearRegression\n",
    "\n",
    "model = LinearRegression()\n",
    "model.fit(X_train, y_train)\n"
   ]
  },
  {
   "cell_type": "code",
   "execution_count": 211,
   "id": "fd0b86f9",
   "metadata": {},
   "outputs": [],
   "source": [
    "y_pred = model.predict(X_test)\n"
   ]
  },
  {
   "cell_type": "code",
   "execution_count": 212,
   "id": "b664a5fe",
   "metadata": {},
   "outputs": [
    {
     "name": "stdout",
     "output_type": "stream",
     "text": [
      "Mean Absolute Error: 5.430065237723226\n",
      "Root Mean Squared Error: 7.405157295348543\n"
     ]
    }
   ],
   "source": [
    "from sklearn.metrics import mean_absolute_error, mean_squared_error\n",
    "import numpy as np\n",
    "\n",
    "mae = mean_absolute_error(y_test, y_pred)\n",
    "rmse = np.sqrt(mean_squared_error(y_test, y_pred))\n",
    "\n",
    "print(f\"Mean Absolute Error: {mae}\")\n",
    "print(f\"Root Mean Squared Error: {rmse}\")\n"
   ]
  },
  {
   "cell_type": "code",
   "execution_count": 213,
   "id": "362f63ed",
   "metadata": {},
   "outputs": [
    {
     "data": {
      "image/png": "[encoded data removed]",
      "text/plain": [
       "<Figure size 432x288 with 1 Axes>"
      ]
     },
     "metadata": {
      "needs_background": "light"
     },
     "output_type": "display_data"
    }
   ],
   "source": [
    "import matplotlib.pyplot as plt\n",
    "\n",
    "plt.scatter(X_test, y_test, color='blue', label='Actual')\n",
    "plt.scatter(X_test, y_pred, color='red', marker='x', label='Predicted')\n",
    "plt.xlabel('Experience')\n",
    "plt.ylabel('Salary')\n",
    "plt.title('Actual vs. Predicted Salaries')\n",
    "plt.legend()\n",
    "plt.show()\n"
   ]
  }
 ],
 "metadata": {
  "kernelspec": {
   "display_name": "Python 3 (ipykernel)",
   "language": "python",
   "name": "python3"
  },
  "language_info": {
   "codemirror_mode": {
    "name": "ipython",
    "version": 3
   },
   "file_extension": ".py",
   "mimetype": "text/x-python",
   "name": "python",
   "nbconvert_exporter": "python",
   "pygments_lexer": "ipython3",
   "version": "3.9.7"
  }
 },
 "nbformat": 4,
 "nbformat_minor": 5
}
