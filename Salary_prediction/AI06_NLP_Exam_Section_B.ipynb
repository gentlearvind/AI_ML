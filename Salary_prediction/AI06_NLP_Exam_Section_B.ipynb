{
 "cells": [
  {
   "cell_type": "markdown",
   "id": "b7ee494c",
   "metadata": {},
   "source": [
    "# Section B"
   ]
  },
  {
   "cell_type": "markdown",
   "id": "81e431d5",
   "metadata": {},
   "source": [
    "Q1\n",
    "\"While the film's cinematography was captivating, the storyline left much to be desired\".\n",
    "What is the overall sentiment of the text, considering both positive and negative aspects?\n",
    "A) Positive\n",
    "B) Negative\n",
    "C) Neutral\n"
   ]
  },
  {
   "cell_type": "code",
   "execution_count": 6,
   "id": "42259a27",
   "metadata": {},
   "outputs": [
    {
     "name": "stderr",
     "output_type": "stream",
     "text": [
      "No model was supplied, defaulted to distilbert-base-uncased-finetuned-sst-2-english and revision af0f99b (https://huggingface.co/distilbert-base-uncased-finetuned-sst-2-english).\n",
      "Using a pipeline without specifying a model name and revision in production is not recommended.\n"
     ]
    },
    {
     "name": "stdout",
     "output_type": "stream",
     "text": [
      "{'label': 'NEGATIVE', 'score': 0.9995895028114319}\n"
     ]
    }
   ],
   "source": [
    "from transformers import pipeline\n",
    "\n",
    "# Initialize the sentiment-analysis pipeline\n",
    "sentiment_classifier = pipeline(\"sentiment-analysis\")\n",
    "\n",
    "# Given text\n",
    "text = \"While the film's cinematography was captivating, the storyline left much to be desired.\"\n",
    "\n",
    "# Analyze sentiment\n",
    "result = sentiment_classifier(text)[0]\n",
    "sentiment = result['label']\n",
    "print(result)\n",
    "\n"
   ]
  },
  {
   "cell_type": "markdown",
   "id": "68aed7a9",
   "metadata": {},
   "source": [
    "Q2.\n",
    "\"Economics is the study of how societies allocate limited resources to meet their diverse needs and desires. It examines production, consumption, and distribution of goods and services. Economists analyze markets, government policies, and individual behavior to understand and improve economic systems, addressing crucial issues like inflation, unemployment, and income distribution\"."
   ]
  },
  {
   "cell_type": "code",
   "execution_count": 5,
   "id": "9e05ac51",
   "metadata": {},
   "outputs": [
    {
     "name": "stderr",
     "output_type": "stream",
     "text": [
      "No model was supplied, defaulted to distilbert-base-uncased-finetuned-sst-2-english and revision af0f99b (https://huggingface.co/distilbert-base-uncased-finetuned-sst-2-english).\n",
      "Using a pipeline without specifying a model name and revision in production is not recommended.\n"
     ]
    },
    {
     "name": "stdout",
     "output_type": "stream",
     "text": [
      "{'label': 'POSITIVE', 'score': 0.9903813004493713}\n"
     ]
    }
   ],
   "source": [
    "from transformers import pipeline\n",
    "\n",
    "# Initialize the sentiment-analysis pipeline\n",
    "sentiment_classifier = pipeline(\"sentiment-analysis\")\n",
    "\n",
    "# Given text\n",
    "text = \"Economics is the study of how societies allocate limited resources to meet their diverse needs and desires. It examines production, consumption, and distribution of goods and services. Economists analyze markets, government policies, and individual behavior to understand and improve economic systems, addressing crucial issues like inflation, unemployment, and income distribution\"\n",
    "\n",
    "# Analyze sentiment\n",
    "result = sentiment_classifier(text)[0]\n",
    "sentiment = result['label']\n",
    "print(result)"
   ]
  },
  {
   "cell_type": "markdown",
   "id": "b781c9a2",
   "metadata": {},
   "source": [
    "Q3.\n",
    "\"On April 26, 1986, the Chernobyl Nuclear Power Plant in Pripyat, Ukraine, suffered a catastrophic explosion\".\n",
    "What is the recognized entity type for \"Chernobyl Nuclear Power Plant\"?\n"
   ]
  },
  {
   "cell_type": "code",
   "execution_count": 7,
   "id": "dfc5236d",
   "metadata": {},
   "outputs": [
    {
     "name": "stderr",
     "output_type": "stream",
     "text": [
      "\n",
      "Usage:   \n",
      "  pip install [options] <requirement specifier> [package-index-options] ...\n",
      "  pip install [options] -r <requirements file> [package-index-options] ...\n",
      "  pip install [options] [-e] <vcs project url> ...\n",
      "  pip install [options] [-e] <local project path> ...\n",
      "  pip install [options] <archive url/path> ...\n",
      "\n",
      "no such option: -m\n"
     ]
    }
   ],
   "source": [
    "!pip install spacy python -m spacy download en_core_web_sm\n"
   ]
  },
  {
   "cell_type": "code",
   "execution_count": 8,
   "id": "90a1e4f6",
   "metadata": {},
   "outputs": [
    {
     "name": "stderr",
     "output_type": "stream",
     "text": [
      "C:\\Users\\arvind_kumar21\\Anaconda3\\lib\\site-packages\\torch\\__init__.py:614: UserWarning: torch.set_default_tensor_type() is deprecated as of PyTorch 2.1, please use torch.set_default_dtype() and torch.set_default_device() as alternatives. (Triggered internally at C:\\actions-runner\\_work\\pytorch\\pytorch\\builder\\windows\\pytorch\\torch\\csrc\\tensor\\python_tensor.cpp:453.)\n",
      "  _C._set_default_tensor_type(t)\n"
     ]
    },
    {
     "name": "stdout",
     "output_type": "stream",
     "text": [
      "The entity 'Chernobyl Nuclear Power Plant' was not recognized.\n"
     ]
    }
   ],
   "source": [
    "import spacy\n",
    "\n",
    "# Load the English language model\n",
    "nlp = spacy.load(\"en_core_web_sm\")\n",
    "\n",
    "# Given text\n",
    "text = \"On April 26, 1986, the Chernobyl Nuclear Power Plant in Pripyat, Ukraine, suffered a catastrophic explosion.\"\n",
    "\n",
    "# Process the text\n",
    "doc = nlp(text)\n",
    "\n",
    "# Find the entity type for \"Chernobyl Nuclear Power Plant\"\n",
    "entity_type = None\n",
    "for ent in doc.ents:\n",
    "    if ent.text == \"Chernobyl Nuclear Power Plant\":\n",
    "        entity_type = ent.label_\n",
    "        break\n",
    "\n",
    "# Print the recognized entity type\n",
    "if entity_type:\n",
    "    print(f\"The recognized entity type for 'Chernobyl Nuclear Power Plant' is: {entity_type}\")\n",
    "else:\n",
    "    print(\"The entity 'Chernobyl Nuclear Power Plant' was not recognized.\")\n"
   ]
  }
 ],
 "metadata": {
  "kernelspec": {
   "display_name": "Python 3 (ipykernel)",
   "language": "python",
   "name": "python3"
  },
  "language_info": {
   "codemirror_mode": {
    "name": "ipython",
    "version": 3
   },
   "file_extension": ".py",
   "mimetype": "text/x-python",
   "name": "python",
   "nbconvert_exporter": "python",
   "pygments_lexer": "ipython3",
   "version": "3.9.7"
  }
 },
 "nbformat": 4,
 "nbformat_minor": 5
}
